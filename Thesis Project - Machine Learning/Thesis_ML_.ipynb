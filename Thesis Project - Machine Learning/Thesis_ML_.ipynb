{
  "nbformat": 4,
  "nbformat_minor": 0,
  "metadata": {
    "colab": {
      "provenance": []
    },
    "kernelspec": {
      "name": "python3",
      "display_name": "Python 3"
    },
    "language_info": {
      "name": "python"
    }
  },
  "cells": [
    {
      "cell_type": "markdown",
      "source": [
        "# Imports"
      ],
      "metadata": {
        "id": "4HL92ctTDH9N"
      }
    },
    {
      "cell_type": "code",
      "execution_count": 41,
      "metadata": {
        "id": "VOZXkM1LAvs1"
      },
      "outputs": [],
      "source": [
        "import pandas as pd\n",
        "import numpy as np\n",
        "from sklearn.decomposition import KernelPCA\n",
        "from sklearn.discriminant_analysis import LinearDiscriminantAnalysis\n",
        "from sklearn.metrics import accuracy_score, recall_score, precision_score, f1_score\n",
        "from sklearn.ensemble import RandomForestClassifier\n",
        "from sklearn.neural_network import MLPClassifier\n",
        "from sklearn.neighbors import KNeighborsClassifier\n",
        "from sklearn.preprocessing import StandardScaler\n",
        "from sklearn.model_selection import train_test_split, GridSearchCV, learning_curve\n",
        "import matplotlib.pyplot as plt"
      ]
    },
    {
      "cell_type": "markdown",
      "source": [
        "# **Data preprocessing**"
      ],
      "metadata": {
        "id": "7DfDMHOwDK4E"
      }
    },
    {
      "cell_type": "code",
      "source": [
        "random_state = 1000\n",
        "df = pd.read_csv(\"Analysis.csv\")"
      ],
      "metadata": {
        "id": "-xpDYEczDKPi"
      },
      "execution_count": 2,
      "outputs": []
    },
    {
      "cell_type": "code",
      "source": [
        "# Dropping all rows containing a na value\n",
        "df.dropna(inplace=True)"
      ],
      "metadata": {
        "id": "cVWVKhjNDfc3"
      },
      "execution_count": 3,
      "outputs": []
    },
    {
      "cell_type": "code",
      "source": [
        "df.info()"
      ],
      "metadata": {
        "id": "FoHIi9iQE_vb"
      },
      "execution_count": null,
      "outputs": []
    },
    {
      "cell_type": "code",
      "source": [
        "# Setting the data set as labels and values\n",
        "df = df.drop(['index','id', 'name'], axis=1)\n",
        "y = df[['label']]\n",
        "X = df.drop('label', axis=1)\n",
        "df = df.drop('label', axis=1)"
      ],
      "metadata": {
        "id": "wFfg_YVZFLQd"
      },
      "execution_count": 5,
      "outputs": []
    },
    {
      "cell_type": "markdown",
      "source": [
        "**Scaling the data**"
      ],
      "metadata": {
        "id": "TvS66vx3Ezwb"
      }
    },
    {
      "cell_type": "code",
      "source": [
        "scale = StandardScaler()\n",
        "X = scale.fit_transform(X)\n",
        "X = pd.DataFrame(X, columns=df.columns)"
      ],
      "metadata": {
        "id": "ewGq1vKsDwdw"
      },
      "execution_count": 6,
      "outputs": []
    },
    {
      "cell_type": "markdown",
      "source": [
        "# **Applying feature extraction and LDA**"
      ],
      "metadata": {
        "id": "JxvwoufKIuGk"
      }
    },
    {
      "cell_type": "code",
      "source": [
        "# Applying dimensionality reduction with Kernel PCA so that the classes are distributed as far from each other as possible\n",
        "PCA = KernelPCA(n_components = 2, kernel = 'rbf') # Adjust the components accordingly\n",
        "X_reduced = PCA.fit_transform(X)"
      ],
      "metadata": {
        "id": "XLCuhwOxIwJt"
      },
      "execution_count": 29,
      "outputs": []
    },
    {
      "cell_type": "code",
      "source": [
        "# Applying Linear Discriminant Analysis so that the classes are more compact\n",
        "classes = y.nunique()[0]\n",
        "LDA = LinearDiscriminantAnalysis()\n",
        "X_reduced_lda = LDA.fit_transform(X_reduced,y.values.ravel())"
      ],
      "metadata": {
        "id": "PjWmxMi4JhrA"
      },
      "execution_count": 30,
      "outputs": []
    },
    {
      "cell_type": "markdown",
      "source": [
        "**Visualizing the data**"
      ],
      "metadata": {
        "id": "4ihLfMrkLTID"
      }
    },
    {
      "cell_type": "code",
      "source": [
        "dfc = pd.concat([pd.DataFrame(X_reduced_lda), y], axis=1)\n",
        "\n",
        "# Separate the data based on the unique values in the 'label' column (assuming the label column is named 'label')\n",
        "unique_labels = dfc['label'].unique()\n",
        "\n",
        "# Create a scatter plot for each unique label\n",
        "for label in unique_labels:\n",
        "    plt.scatter(dfc[dfc['label'] == label][0], dfc[dfc['label'] == label][1], label=label, s=5)  # Set the size to 10\n",
        "\n",
        "# Set labels and title\n",
        "plt.xlabel('Feature 1')\n",
        "plt.ylabel('Feature 2')\n",
        "plt.title('Scatter Plot of Features with Labels')\n",
        "plt.legend(loc='center left', bbox_to_anchor=(1, 0.5))  # Show legend\n",
        "\n",
        "# Show the plot\n",
        "plt.show()"
      ],
      "metadata": {
        "id": "11Chb0zWMmbh"
      },
      "execution_count": null,
      "outputs": []
    },
    {
      "cell_type": "markdown",
      "source": [
        "It is evident that reducing the dataset into two dimensions takes away a lot of information regarding the classes actual variance."
      ],
      "metadata": {
        "id": "YjzUajyKPBEu"
      }
    },
    {
      "cell_type": "markdown",
      "source": [
        "# **Training the models**"
      ],
      "metadata": {
        "id": "6YHyli9qPQH9"
      }
    },
    {
      "cell_type": "markdown",
      "source": [
        "**Metrics method**"
      ],
      "metadata": {
        "id": "lmSY_7vIQrdh"
      }
    },
    {
      "cell_type": "code",
      "source": [
        "# Defining a method to calculate the accuracy, precision, recall and f1 score for a model\n",
        "\n",
        "def metrics (y_true, y_pred):\n",
        "  return (accuracy_score(y_true, y_pred),\n",
        "          precision_score(y_true, y_pred, average='weighted', zero_division=1),\n",
        "          recall_score(y_true, y_pred, average='weighted'),\n",
        "          f1_score(y_true, y_pred, average='weighted'))"
      ],
      "metadata": {
        "id": "Z4CzbRTlQuIf"
      },
      "execution_count": 66,
      "outputs": []
    },
    {
      "cell_type": "code",
      "source": [
        "# Splitting the dataset into training and testing datasets\n",
        "X_train, X_test, y_train, y_test = train_test_split(X, y, test_size=0.3, random_state=random_state)"
      ],
      "metadata": {
        "id": "XzZ8EdncPaKz"
      },
      "execution_count": 7,
      "outputs": []
    },
    {
      "cell_type": "markdown",
      "source": [
        "**Random Forest**"
      ],
      "metadata": {
        "id": "-V4eYp0fQeTg"
      }
    },
    {
      "cell_type": "code",
      "source": [
        "random_forest = RandomForestClassifier()\n",
        "random_forest.fit(X_train, y_train.values.ravel())\n",
        "y_pred_rf = random_forest.predict(X_test)"
      ],
      "metadata": {
        "id": "3jfDJnJ5PSoR"
      },
      "execution_count": 8,
      "outputs": []
    },
    {
      "cell_type": "code",
      "source": [
        "metrics_rf = metrics(y_test, y_pred_rf)\n",
        "metrics_rf"
      ],
      "metadata": {
        "colab": {
          "base_uri": "https://localhost:8080/"
        },
        "id": "e2DkKjMrP3uV",
        "outputId": "c84cf173-b209-434e-abdc-fc26882a5d4e"
      },
      "execution_count": 62,
      "outputs": [
        {
          "output_type": "execute_result",
          "data": {
            "text/plain": [
              "(0.5305210918114144, 0.529612998873515, 0.5305210918114144, 0.5290614856493208)"
            ]
          },
          "metadata": {},
          "execution_count": 62
        }
      ]
    },
    {
      "cell_type": "markdown",
      "source": [
        "**MLP**"
      ],
      "metadata": {
        "id": "7K4D8LP7QgxP"
      }
    },
    {
      "cell_type": "code",
      "source": [
        "# Applying a grid search method first to decide the optimal MLP configuration\n",
        "param_grid = {'activation':['relu', 'tanh', 'logistic', 'identity'], 'alpha':[0.1, 0.01, 0.001, 0.0001], 'learning_rate':['constant', 'adaptive'], 'solver':['adam', 'sgd']}\n",
        "grid = GridSearchCV(estimator=MLPClassifier(),param_grid= param_grid, refit = True, verbose=3, cv=2)"
      ],
      "metadata": {
        "id": "BGsfbDZvQikH"
      },
      "execution_count": 132,
      "outputs": []
    },
    {
      "cell_type": "code",
      "source": [
        "grid.fit(X_train, y_train)"
      ],
      "metadata": {
        "id": "Delt_JVJRhsy"
      },
      "execution_count": null,
      "outputs": []
    },
    {
      "cell_type": "code",
      "source": [
        "grid.best_params_"
      ],
      "metadata": {
        "colab": {
          "base_uri": "https://localhost:8080/"
        },
        "id": "XDxSDoo9RqpI",
        "outputId": "83de0d4d-097f-4d5c-ba13-e4c0951deab5"
      },
      "execution_count": 134,
      "outputs": [
        {
          "output_type": "execute_result",
          "data": {
            "text/plain": [
              "{'activation': 'tanh',\n",
              " 'alpha': 0.001,\n",
              " 'learning_rate': 'adaptive',\n",
              " 'solver': 'adam'}"
            ]
          },
          "metadata": {},
          "execution_count": 134
        }
      ]
    },
    {
      "cell_type": "code",
      "source": [
        "mlp = MLPClassifier(activation='tanh', alpha=0.001, learning_rate='adaptive', solver='adam', max_iter=1000 )"
      ],
      "metadata": {
        "id": "bxtWq9KiSfQg"
      },
      "execution_count": 10,
      "outputs": []
    },
    {
      "cell_type": "code",
      "source": [
        "mlp.fit(X_train, y_train.values.ravel())\n",
        "y_pred_mlp = mlp.predict(X_test)"
      ],
      "metadata": {
        "id": "zTlaasG0Sllk"
      },
      "execution_count": 11,
      "outputs": []
    },
    {
      "cell_type": "code",
      "source": [
        "metrics_mlp = metrics(y_test, y_pred_mlp)\n",
        "metrics_mlp"
      ],
      "metadata": {
        "colab": {
          "base_uri": "https://localhost:8080/"
        },
        "id": "c6OnnX40TS4v",
        "outputId": "f6f9da1d-ea64-4d6d-c475-236befb6f141"
      },
      "execution_count": 70,
      "outputs": [
        {
          "output_type": "execute_result",
          "data": {
            "text/plain": [
              "(0.4784119106699752,\n",
              " 0.5383369989219166,\n",
              " 0.4784119106699752,\n",
              " 0.45202306231151645)"
            ]
          },
          "metadata": {},
          "execution_count": 70
        }
      ]
    },
    {
      "cell_type": "markdown",
      "source": [
        "**KNN**"
      ],
      "metadata": {
        "id": "x8NiSRkMTBMy"
      }
    },
    {
      "cell_type": "code",
      "source": [
        "classes = y.nunique()[0]\n",
        "knn = KNeighborsClassifier(n_neighbors = classes)"
      ],
      "metadata": {
        "id": "8rknv6kfTC4O"
      },
      "execution_count": 17,
      "outputs": []
    },
    {
      "cell_type": "code",
      "source": [
        "knn.fit(X_train, y_train.values.ravel())"
      ],
      "metadata": {
        "id": "SnC48w-_TMhe"
      },
      "execution_count": null,
      "outputs": []
    },
    {
      "cell_type": "code",
      "source": [
        "y_pred_knn = knn.predict(X_test)"
      ],
      "metadata": {
        "id": "eCvSk_wlZvJP"
      },
      "execution_count": 20,
      "outputs": []
    },
    {
      "cell_type": "code",
      "source": [
        "metrics_knn = metrics(y_test, y_pred_knn)\n",
        "metrics_knn"
      ],
      "metadata": {
        "colab": {
          "base_uri": "https://localhost:8080/"
        },
        "id": "5G8PPgKsTRsf",
        "outputId": "2e200a84-d8ea-4397-f3c9-f1d831268fb2"
      },
      "execution_count": 71,
      "outputs": [
        {
          "output_type": "execute_result",
          "data": {
            "text/plain": [
              "(0.5915632754342431,\n",
              " 0.6053323690659862,\n",
              " 0.5915632754342431,\n",
              " 0.5872018019170631)"
            ]
          },
          "metadata": {},
          "execution_count": 71
        }
      ]
    },
    {
      "cell_type": "markdown",
      "source": [
        "# **Plotting learning curves**"
      ],
      "metadata": {
        "id": "lYiOj4ppaShW"
      }
    },
    {
      "cell_type": "code",
      "source": [
        "classifiers = [random_forest, mlp, knn]\n",
        "classifier_names = ['RandomForest', 'MLP', 'KNN']\n",
        "\n",
        "# Plot learning curves for each classifier\n",
        "plt.figure(figsize=(12, 8))\n",
        "\n",
        "for classifier, name in zip(classifiers, classifier_names):\n",
        "    train_sizes, train_scores, test_scores = learning_curve(classifier, X_train, y_train.values.ravel(), cv=2, scoring='accuracy')\n",
        "\n",
        "    train_scores_mean = np.mean(train_scores, axis=1)\n",
        "    train_scores_std = np.std(train_scores, axis=1)\n",
        "    test_scores_mean = np.mean(test_scores, axis=1)\n",
        "    test_scores_std = np.std(test_scores, axis=1)\n",
        "\n",
        "    plt.plot(train_sizes, train_scores_mean, label=f'{name} - Training Score', marker='o')\n",
        "    plt.fill_between(train_sizes, train_scores_mean - train_scores_std, train_scores_mean + train_scores_std, alpha=0.2)\n",
        "\n",
        "    plt.plot(train_sizes, test_scores_mean, label=f'{name} - Cross-validation Score', marker='o')\n",
        "    plt.fill_between(train_sizes, test_scores_mean - test_scores_std, test_scores_mean + test_scores_std, alpha=0.2)\n",
        "\n",
        "plt.title('Learning Curves for Classifiers')\n",
        "plt.xlabel('Training Examples')\n",
        "plt.ylabel('Score')\n",
        "plt.legend(loc='best')\n",
        "plt.grid(True)\n",
        "plt.show()"
      ],
      "metadata": {
        "id": "oyb5NAy3aX_l"
      },
      "execution_count": null,
      "outputs": []
    },
    {
      "cell_type": "markdown",
      "source": [
        "# **Comparing results on original dataset vs dataset after KPCA-LDA**"
      ],
      "metadata": {
        "id": "ikmAldFoMAuo"
      }
    },
    {
      "cell_type": "code",
      "source": [
        "X_train, X_test, y_train, y_test = train_test_split(X_reduced_lda, y, test_size=0.3, random_state=random_state)"
      ],
      "metadata": {
        "id": "_xCbw1ZpOTK0"
      },
      "execution_count": 72,
      "outputs": []
    },
    {
      "cell_type": "code",
      "source": [
        "random_forest.fit(X_train, y_train.values.ravel())\n",
        "y_pred_rf = random_forest.predict(X_test)\n",
        "metrics_rf_red = metrics(y_test, y_pred_rf)"
      ],
      "metadata": {
        "id": "3ajl9cjmOvcz"
      },
      "execution_count": 73,
      "outputs": []
    },
    {
      "cell_type": "code",
      "source": [
        "mlp.fit(X_train, y_train.values.ravel())\n",
        "y_pred_mlp = mlp.predict(X_test)\n",
        "metrics_mlp_red = metrics(y_test, y_pred_mlp)"
      ],
      "metadata": {
        "id": "569ZzRf8PDU7"
      },
      "execution_count": 74,
      "outputs": []
    },
    {
      "cell_type": "code",
      "source": [
        "knn.fit(X_train, y_train.values.ravel())\n",
        "y_pred_knn = knn.predict(X_test)\n",
        "metrics_knn_red = metrics(y_test, y_pred_knn)"
      ],
      "metadata": {
        "id": "LR4pAsy8UadO"
      },
      "execution_count": 75,
      "outputs": []
    },
    {
      "cell_type": "code",
      "source": [
        "print(metrics_rf_red, metrics_rf)\n",
        "print(metrics_mlp_red, metrics_mlp)\n",
        "print(metrics_knn_red, metrics_knn) # Results are similar so feature extraction\n",
        "                                    # doesn't appear to be useful"
      ],
      "metadata": {
        "colab": {
          "base_uri": "https://localhost:8080/"
        },
        "id": "H1G3dYY7VxDZ",
        "outputId": "9288af35-75cb-4f02-8025-78d678209e5d"
      },
      "execution_count": 81,
      "outputs": [
        {
          "output_type": "stream",
          "name": "stdout",
          "text": [
            "(0.5230769230769231, 0.5213323533619217, 0.5230769230769231, 0.5215818955523066) (0.5305210918114144, 0.529612998873515, 0.5305210918114144, 0.5290614856493208)\n",
            "(0.4794044665012407, 0.5393908283488321, 0.4794044665012407, 0.45308801547487404) (0.4784119106699752, 0.5383369989219166, 0.4784119106699752, 0.45202306231151645)\n",
            "(0.47096774193548385, 0.46902363287155246, 0.47096774193548385, 0.4665689679665557) (0.5915632754342431, 0.6053323690659862, 0.5915632754342431, 0.5872018019170631)\n"
          ]
        }
      ]
    }
  ]
}